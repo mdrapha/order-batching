{
 "cells": [
  {
   "cell_type": "code",
   "execution_count": 132,
   "metadata": {},
   "outputs": [],
   "source": [
    "import pandas as pd\n",
    "from pandasql import sqldf\n",
    "\n",
    "query = lambda q: sqldf(q, globals())\n",
    "\n",
    "caixas = pd.read_csv('../data/caixas.csv')\n",
    "estoque = pd.read_csv('../data/estoque.csv')"
   ]
  },
  {
   "cell_type": "code",
   "execution_count": 133,
   "metadata": {},
   "outputs": [
    {
     "name": "stdout",
     "output_type": "stream",
     "text": [
      "       CAIXA_ID  ANDAR        SKU  PECAS\n",
      "0            12      1      SKU_1     10\n",
      "1            12      2     SKU_10      6\n",
      "2            12      0     SKU_11      3\n",
      "3            12      0     SKU_12      4\n",
      "4            12      2     SKU_13     18\n",
      "...         ...    ...        ...    ...\n",
      "22065      6938      0  SKU_12898      2\n",
      "22066      6939      0  SKU_12756     10\n",
      "22067      6939      0  SKU_12898      3\n",
      "22068      6940      0  SKU_12755      1\n",
      "22069      6940      0  SKU_12756     10\n",
      "\n",
      "[22070 rows x 4 columns]\n"
     ]
    }
   ],
   "source": [
    "cmd = f\"\"\"\n",
    "    SELECT DISTINCT \n",
    "        caixas.CAIXA_ID, \n",
    "        MIN(estoque.ANDAR) AS ANDAR, \n",
    "        estoque.SKU,\n",
    "        SUM(caixas.PECAS) AS PECAS\n",
    "    FROM caixas\n",
    "    JOIN estoque\n",
    "        ON caixas.SKU = estoque.SKU\n",
    "        AND caixas.PECAS <= estoque.PECAS\n",
    "    GROUP BY caixas.CAIXA_ID, estoque.SKU\"\"\"\n",
    "caixas_andares = query(cmd)\n",
    "print(caixas_andares)"
   ]
  },
  {
   "cell_type": "code",
   "execution_count": 134,
   "metadata": {},
   "outputs": [
    {
     "name": "stdout",
     "output_type": "stream",
     "text": [
      "   TOTAL_CAIXAS\n",
      "0          2072\n",
      "\n",
      "Precisam de 1 andar:\n",
      "   QTD_CAIXAS\n",
      "0        1277\n",
      "\n",
      "Precisam de 2 andares:\n",
      "   QTD_CAIXAS\n",
      "0         354\n",
      "\n",
      "Precisam de 3 andares:\n",
      "   QTD_CAIXAS\n",
      "0         441\n"
     ]
    }
   ],
   "source": [
    "cmd = f\"\"\"\n",
    "    SELECT COUNT(DISTINCT CAIXA_ID) AS TOTAL_CAIXAS\n",
    "    FROM caixas\"\"\"\n",
    "print(query(cmd))\n",
    "\n",
    "for qtd_andares in range(1, 4):\n",
    "    print(f'\\nPrecisam de {qtd_andares} {(\"andares\" if qtd_andares > 1 else \"andar\")}:')\n",
    "    cmd = f\"\"\"\n",
    "    SELECT COUNT(DISTINCT CAIXA_ID) AS QTD_CAIXAS\n",
    "    FROM caixas_andares\n",
    "    WHERE CAIXA_ID IN (\n",
    "        SELECT CAIXA_ID \n",
    "        FROM caixas_andares\n",
    "        GROUP BY CAIXA_ID\n",
    "        HAVING COUNT(DISTINCT ANDAR) = {qtd_andares})\"\"\"\n",
    "    print(query(cmd))"
   ]
  },
  {
   "cell_type": "code",
   "execution_count": 141,
   "metadata": {},
   "outputs": [
    {
     "name": "stdout",
     "output_type": "stream",
     "text": [
      "      CAIXA_ID  SKUS  PECAS\n",
      "0           12    17    238\n",
      "1           13    31    333\n",
      "2           45    27    229\n",
      "3           46    26    200\n",
      "4           47    17    221\n",
      "...        ...   ...    ...\n",
      "2067      6936     4    119\n",
      "2068      6937     7     91\n",
      "2069      6938     2      8\n",
      "2070      6939     2     13\n",
      "2071      6940     2     11\n",
      "\n",
      "[2072 rows x 3 columns]\n"
     ]
    }
   ],
   "source": [
    "cmd = f\"\"\"\n",
    "    SELECT CAIXA_ID, COUNT(SKU) AS SKUS, SUM(PECAS) AS PECAS\n",
    "    FROM caixas_andares\n",
    "    GROUP BY CAIXA_ID\"\"\" \n",
    "caixas_pecas = query(cmd)\n",
    "print(caixas_pecas)"
   ]
  },
  {
   "cell_type": "markdown",
   "metadata": {},
   "source": [
    "o parâmetro de priorização usado para as caixas foi andar mais baixo e menor contagem total de peças"
   ]
  },
  {
   "cell_type": "code",
   "execution_count": 145,
   "metadata": {},
   "outputs": [
    {
     "name": "stdout",
     "output_type": "stream",
     "text": [
      "       CAIXA_ID  ANDAR        SKU  PECAS\n",
      "0           612      0  SKU_19448      1\n",
      "1           613      0  SKU_19448      1\n",
      "2           614      0  SKU_19448      1\n",
      "3           616      0  SKU_19448      1\n",
      "4           617      0  SKU_19448      1\n",
      "...         ...    ...        ...    ...\n",
      "22065      4166      2   SKU_2154      4\n",
      "22066      2491      2  SKU_17635      8\n",
      "22067       704      2    SKU_144      4\n",
      "22068       704      2    SKU_244      6\n",
      "22069       704      2    SKU_288      2\n",
      "\n",
      "[22070 rows x 4 columns]\n"
     ]
    }
   ],
   "source": [
    "cmd = f\"\"\"\n",
    "    SELECT caixas_pecas.CAIXA_ID, caixas_andares.ANDAR, caixas_andares.SKU, caixas_andares.PECAS\n",
    "    FROM caixas_andares\n",
    "    JOIN caixas_pecas\n",
    "        ON caixas_andares.CAIXA_ID = caixas_pecas.CAIXA_ID\n",
    "    ORDER BY caixas_andares.ANDAR ASC, caixas_pecas.PECAS ASC\"\"\" # parâmetro de priorização de caixas\n",
    "caixas_andares = query(cmd)\n",
    "print(caixas_andares)"
   ]
  },
  {
   "cell_type": "code",
   "execution_count": null,
   "metadata": {},
   "outputs": [],
   "source": [
    "caixas_real = caixas.copy()\n",
    "estoque_real = estoque.copy()\n",
    "\n",
    "for caixa in caixas_pecas['CAIXA_ID']:\n",
    "    print(f'\\nCaixa {caixa} no andar {andar}')"
   ]
  }
 ],
 "metadata": {
  "kernelspec": {
   "display_name": "Python 3",
   "language": "python",
   "name": "python3"
  },
  "language_info": {
   "codemirror_mode": {
    "name": "ipython",
    "version": 3
   },
   "file_extension": ".py",
   "mimetype": "text/x-python",
   "name": "python",
   "nbconvert_exporter": "python",
   "pygments_lexer": "ipython3",
   "version": "3.10.7"
  }
 },
 "nbformat": 4,
 "nbformat_minor": 2
}
