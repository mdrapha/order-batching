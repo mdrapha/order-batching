{
 "cells": [
  {
   "cell_type": "code",
   "execution_count": 156,
   "metadata": {},
   "outputs": [],
   "source": [
    "import pandas as pd\n",
    "from pandasql import sqldf\n",
    "\n",
    "query = lambda q: sqldf(q, globals())\n",
    "\n",
    "caixas = pd.read_csv('../data/caixas.csv')\n",
    "estoque = pd.read_csv('../data/estoque.csv')"
   ]
  },
  {
   "cell_type": "code",
   "execution_count": 157,
   "metadata": {},
   "outputs": [
    {
     "name": "stdout",
     "output_type": "stream",
     "text": [
      "       CAIXA_ID  ANDAR        SKU  PECAS\n",
      "0            12      1      SKU_1     10\n",
      "1            12      2     SKU_10      6\n",
      "2            12      0     SKU_11      3\n",
      "3            12      0     SKU_12      4\n",
      "4            12      2     SKU_13     18\n",
      "...         ...    ...        ...    ...\n",
      "22065      6938      0  SKU_12898      2\n",
      "22066      6939      0  SKU_12756     10\n",
      "22067      6939      0  SKU_12898      3\n",
      "22068      6940      0  SKU_12755      1\n",
      "22069      6940      0  SKU_12756     10\n",
      "\n",
      "[22070 rows x 4 columns]\n"
     ]
    }
   ],
   "source": [
    "cmd = f\"\"\"\n",
    "    SELECT DISTINCT \n",
    "        caixas.CAIXA_ID, \n",
    "        MIN(estoque.ANDAR) AS ANDAR, \n",
    "        estoque.SKU,\n",
    "        SUM(caixas.PECAS) AS PECAS\n",
    "    FROM caixas\n",
    "    JOIN estoque\n",
    "        ON caixas.SKU = estoque.SKU\n",
    "        AND caixas.PECAS <= estoque.PECAS\n",
    "    GROUP BY caixas.CAIXA_ID, estoque.SKU\"\"\"\n",
    "caixas_andares = query(cmd)\n",
    "print(caixas_andares)"
   ]
  },
  {
   "cell_type": "code",
   "execution_count": 158,
   "metadata": {},
   "outputs": [
    {
     "name": "stdout",
     "output_type": "stream",
     "text": [
      "      CAIXA_ID  SKUS  PECAS  ANDARES\n",
      "0           12    17    238        3\n",
      "1           13    31    333        3\n",
      "2           45    27    229        3\n",
      "3           46    26    200        3\n",
      "4           47    17    221        1\n",
      "...        ...   ...    ...      ...\n",
      "2067      6936     4    119        1\n",
      "2068      6937     7     91        1\n",
      "2069      6938     2      8        1\n",
      "2070      6939     2     13        1\n",
      "2071      6940     2     11        1\n",
      "\n",
      "[2072 rows x 4 columns]\n"
     ]
    }
   ],
   "source": [
    "cmd = f\"\"\"\n",
    "    SELECT \n",
    "        CAIXA_ID, \n",
    "        COUNT(SKU) AS SKUS, \n",
    "        SUM(PECAS) AS PECAS,\n",
    "        COUNT(DISTINCT ANDAR) AS ANDARES\n",
    "    FROM caixas_andares\n",
    "    GROUP BY CAIXA_ID\"\"\" \n",
    "caixas_info = query(cmd)\n",
    "print(caixas_info)"
   ]
  },
  {
   "cell_type": "markdown",
   "metadata": {},
   "source": [
    "parâmetros de priorização:\n",
    "1. menor quantidade de andares necessários\n",
    "2. menor quantidade total de peças\n",
    "3. andar mais baixo"
   ]
  },
  {
   "cell_type": "code",
   "execution_count": 159,
   "metadata": {},
   "outputs": [
    {
     "name": "stdout",
     "output_type": "stream",
     "text": [
      "       CAIXA_ID  ANDAR        SKU  PECAS\n",
      "0           612      0  SKU_19448      1\n",
      "1           613      0  SKU_19448      1\n",
      "2           614      0  SKU_19448      1\n",
      "3           616      0  SKU_19448      1\n",
      "4           617      0  SKU_19448      1\n",
      "...         ...    ...        ...    ...\n",
      "22065       704      1    SKU_348      2\n",
      "22066       704      1    SKU_349      3\n",
      "22067       704      2    SKU_144      4\n",
      "22068       704      2    SKU_244      6\n",
      "22069       704      2    SKU_288      2\n",
      "\n",
      "[22070 rows x 4 columns]\n"
     ]
    }
   ],
   "source": [
    "cmd = f\"\"\"\n",
    "    SELECT \n",
    "        caixas_info.CAIXA_ID, \n",
    "        caixas_andares.ANDAR, \n",
    "        caixas_andares.SKU, \n",
    "        caixas_andares.PECAS\n",
    "    FROM caixas_andares\n",
    "    JOIN caixas_info\n",
    "        ON caixas_andares.CAIXA_ID = caixas_info.CAIXA_ID\n",
    "    ORDER BY \n",
    "        caixas_info.ANDARES ASC,\n",
    "        caixas_info.PECAS ASC, \n",
    "        caixas_andares.ANDAR ASC\"\"\" # parâmetros de priorização de caixas no ORDER BY\n",
    "caixas_andares = query(cmd)\n",
    "print(caixas_andares)"
   ]
  },
  {
   "cell_type": "code",
   "execution_count": 162,
   "metadata": {},
   "outputs": [],
   "source": [
    "for caixa, andar in caixas_andares[['CAIXA_ID', 'ANDAR']].values:\n",
    "    pass"
   ]
  }
 ],
 "metadata": {
  "kernelspec": {
   "display_name": "Python 3",
   "language": "python",
   "name": "python3"
  },
  "language_info": {
   "codemirror_mode": {
    "name": "ipython",
    "version": 3
   },
   "file_extension": ".py",
   "mimetype": "text/x-python",
   "name": "python",
   "nbconvert_exporter": "python",
   "pygments_lexer": "ipython3",
   "version": "3.10.7"
  }
 },
 "nbformat": 4,
 "nbformat_minor": 2
}
