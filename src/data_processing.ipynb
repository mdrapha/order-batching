{
 "cells": [
  {
   "cell_type": "code",
   "execution_count": 120,
   "metadata": {},
   "outputs": [],
   "source": [
    "from produto import Produto\n",
    "from caixa import Caixa\n",
    "from estoque import Estoque\n",
    "from onda import Onda\n",
    "\n",
    "from pyspark.sql import SparkSession\n",
    "from pyspark import SparkConf\n",
    "\n",
    "# Configuração inicial do PySpark\n",
    "conf = SparkConf()\n",
    "conf.setAppName(\"MeuAplicativoPySpark\")\n",
    "conf.setMaster(\"local[*]\")  # Usar todos os núcleos locais para execução\n",
    "\n",
    "# Criação da SparkSession\n",
    "spark = SparkSession.builder \\\n",
    "    .config(conf=conf) \\\n",
    "    .getOrCreate()"
   ]
  },
  {
   "cell_type": "code",
   "execution_count": 121,
   "metadata": {},
   "outputs": [
    {
     "name": "stdout",
     "output_type": "stream",
     "text": [
      "SparkSession Criada!\n",
      "+-------+--------+-----+-------------+-----+\n",
      "|ONDA_ID|CAIXA_ID|PECAS|  CLASSE_ONDA|  SKU|\n",
      "+-------+--------+-----+-------------+-----+\n",
      "|      4|      12|    1|CLASSE_ONDA_1|SKU_1|\n",
      "+-------+--------+-----+-------------+-----+\n",
      "only showing top 1 row\n",
      "\n",
      "+-----+--------+---------+-----+\n",
      "|ANDAR|CORREDOR|      SKU|PECAS|\n",
      "+-----+--------+---------+-----+\n",
      "|    0|       2|SKU_17028|  193|\n",
      "+-----+--------+---------+-----+\n",
      "only showing top 1 row\n",
      "\n"
     ]
    }
   ],
   "source": [
    "# Verificar se a sessão Spark está funcionando\n",
    "print(\"SparkSession Criada!\")\n",
    "spark.sparkContext.setLogLevel(\"WARN\")  # Define o nível de log para evitar muitas mensagens de depuração\n",
    "\n",
    "# Leitura de dois arquivos CSV e salvando em variáveis\n",
    "caixas_df = spark.read.csv(\"../data/caixas.csv\", header=True, inferSchema=True)\n",
    "estoque_df = spark.read.csv(\"../data/estoque.csv\", header=True, inferSchema=True)\n",
    "\n",
    "# Mostrando o conteúdo dos DataFrames\n",
    "caixas_df.show(1)\n",
    "estoque_df.show(1)\n"
   ]
  },
  {
   "cell_type": "code",
   "execution_count": 122,
   "metadata": {},
   "outputs": [],
   "source": [
    "# Criando uma visão temporária para utilizar SQL puro\n",
    "caixas_df.createOrReplaceTempView(\"caixas\")\n",
    "estoque_df.createOrReplaceTempView(\"estoque\")"
   ]
  },
  {
   "cell_type": "code",
   "execution_count": 123,
   "metadata": {},
   "outputs": [
    {
     "name": "stdout",
     "output_type": "stream",
     "text": [
      "+-------------+--------+-----+------+-----------------------+-----------------------+----+\n",
      "|  CLASSE_ONDA|CAIXA_ID|ANDAR|   SKU|TOTAL_PECAS_NECESSARIAS|TOTAL_PECAS_DISPONIVEIS|DIFF|\n",
      "+-------------+--------+-----+------+-----------------------+-----------------------+----+\n",
      "|CLASSE_ONDA_1|      12|    0| SKU_2|                      1|                     84|  83|\n",
      "|CLASSE_ONDA_1|      12|    0| SKU_3|                      1|                    852| 851|\n",
      "|CLASSE_ONDA_1|      12|    0| SKU_4|                      1|                    670| 669|\n",
      "|CLASSE_ONDA_1|      12|    0| SKU_6|                      4|                    233| 229|\n",
      "|CLASSE_ONDA_1|      12|    0| SKU_9|                      4|                    152| 148|\n",
      "|CLASSE_ONDA_1|      12|    0|SKU_11|                      1|                      1|   0|\n",
      "|CLASSE_ONDA_1|      12|    0|SKU_12|                      2|                    132| 130|\n",
      "|CLASSE_ONDA_1|      12|    0|SKU_14|                      8|                    271| 263|\n",
      "|CLASSE_ONDA_1|      12|    0|SKU_15|                      8|                    117| 109|\n",
      "|CLASSE_ONDA_1|      12|    0|SKU_17|                      1|                     64|  63|\n",
      "|CLASSE_ONDA_1|      12|    1| SKU_1|                      1|                      6|   5|\n",
      "|CLASSE_ONDA_1|      12|    1| SKU_5|                      1|                   2667|2666|\n",
      "|CLASSE_ONDA_1|      12|    1|SKU_11|                      1|                    174| 173|\n",
      "|CLASSE_ONDA_1|      12|    2| SKU_1|                      1|                    886| 885|\n",
      "|CLASSE_ONDA_1|      12|    2| SKU_3|                      1|                   1220|1219|\n",
      "|CLASSE_ONDA_1|      12|    2| SKU_7|                      9|                    360| 351|\n",
      "|CLASSE_ONDA_1|      12|    2| SKU_8|                     10|                    435| 425|\n",
      "|CLASSE_ONDA_1|      12|    2| SKU_9|                      4|                    257| 253|\n",
      "|CLASSE_ONDA_1|      12|    2|SKU_10|                      2|                    290| 288|\n",
      "|CLASSE_ONDA_1|      12|    2|SKU_13|                      9|                    203| 194|\n",
      "+-------------+--------+-----+------+-----------------------+-----------------------+----+\n",
      "only showing top 20 rows\n",
      "\n"
     ]
    }
   ],
   "source": [
    "\n",
    "# Agregando as quantidades de cada SKU por classe de onda e caixa\n",
    "agregado_caixa = spark.sql(\"\"\"\n",
    "    SELECT\n",
    "        CLASSE_ONDA,\n",
    "        CAIXA_ID,\n",
    "        SKU,\n",
    "        PECAS\n",
    "    FROM caixas\n",
    "\n",
    "\"\"\")\n",
    "agregado_caixa.createOrReplaceTempView(\"agregado_caixa\")\n",
    "\n",
    "# Agregando as quantidades de cada SKU por andar\n",
    "agregado_estoque = spark.sql(\"\"\"\n",
    "    SELECT\n",
    "        ANDAR,\n",
    "        SKU,\n",
    "        SUM(PECAS) AS TOTAL_PECAS_DISPONIVEIS\n",
    "    FROM estoque\n",
    "    GROUP BY\n",
    "        ANDAR, SKU\n",
    "\"\"\")\n",
    "agregado_estoque.createOrReplaceTempView(\"agregado_estoque\")\n",
    "\n",
    "# Verificando quantas peças são necessárias em cada caixa e quantas temos no andar\n",
    "dados_necessarios_disponiveis = spark.sql(\"\"\"\n",
    "    SELECT\n",
    "        ac.CLASSE_ONDA,\n",
    "        ac.CAIXA_ID,\n",
    "        ae.ANDAR,\n",
    "        ac.SKU,\n",
    "        ac.PECAS AS TOTAL_PECAS_NECESSARIAS,\n",
    "        ae.TOTAL_PECAS_DISPONIVEIS,\n",
    "        (ae.TOTAL_PECAS_DISPONIVEIS - ac.PECAS) AS DIFF\n",
    "        \n",
    "    FROM agregado_caixa ac\n",
    "    LEFT JOIN agregado_estoque ae\n",
    "    ON ac.SKU = ae.SKU\n",
    "    ORDER BY\n",
    "        ac.CLASSE_ONDA, ac.CAIXA_ID, ae.ANDAR\n",
    "\"\"\")\n",
    "dados_necessarios_disponiveis.show()"
   ]
  },
  {
   "cell_type": "code",
   "execution_count": 124,
   "metadata": {},
   "outputs": [
    {
     "data": {
      "text/plain": [
       "23299"
      ]
     },
     "execution_count": 124,
     "metadata": {},
     "output_type": "execute_result"
    }
   ],
   "source": [
    "# Filtrando os casos onde o DIFF > 0\n",
    "caixas_easy = dados_necessarios_disponiveis.filter(\"DIFF >= 0\")\n",
    "caixas_easy.count()"
   ]
  },
  {
   "cell_type": "code",
   "execution_count": 125,
   "metadata": {},
   "outputs": [
    {
     "data": {
      "text/plain": [
       "218"
      ]
     },
     "execution_count": 125,
     "metadata": {},
     "output_type": "execute_result"
    }
   ],
   "source": [
    "caixas_hard = dados_necessarios_disponiveis.filter(\"DIFF < 0\")\n",
    "caixas_hard.count()"
   ]
  },
  {
   "cell_type": "code",
   "execution_count": 126,
   "metadata": {},
   "outputs": [
    {
     "name": "stdout",
     "output_type": "stream",
     "text": [
      "2072\n",
      "68\n"
     ]
    }
   ],
   "source": [
    "caixas = {}\n",
    "\n",
    "for row in caixas_df.collect():\n",
    "    onda_id = row['ONDA_ID']\n",
    "    caixa_id = row['CAIXA_ID']\n",
    "    classe_onda = row['CLASSE_ONDA']\n",
    "    classe_onda = int(classe_onda.split('_')[-1])\n",
    "    sku = row['SKU']\n",
    "    sku = int(sku.split('_')[1])\n",
    "    qtd = row['PECAS']\n",
    "    \n",
    "    # Criar ou buscar a caixa existente\n",
    "    if caixa_id not in caixas:\n",
    "        caixa = Caixa(caixa_id, classe_onda, onda_id)\n",
    "        caixas[caixa_id] = caixa\n",
    "    else:\n",
    "        caixa = caixas[caixa_id]\n",
    "    \n",
    "    # Adicionar o produto à caixa\n",
    "    produto = Produto(sku, qtd)\n",
    "    caixa.add_produto(produto)\n",
    "\n",
    "print(len(caixas))\n",
    "print(caixas[12].get_total_itens())"
   ]
  },
  {
   "cell_type": "code",
   "execution_count": 127,
   "metadata": {},
   "outputs": [
    {
     "name": "stdout",
     "output_type": "stream",
     "text": [
      "502\n",
      "1615\n"
     ]
    }
   ],
   "source": [
    "estoques = {}\n",
    "for row in estoque_df.collect():\n",
    "\n",
    "    andar = row['ANDAR']\n",
    "    corredor = row['CORREDOR']\n",
    "    sku = row['SKU']\n",
    "    sku = int(sku.split('_')[1])\n",
    "    qtd = row['PECAS']\n",
    "    \n",
    "    # Criar ou buscar o estoque existente\n",
    "    if (andar, corredor) not in estoques:\n",
    "        estoque = Estoque(andar, corredor)\n",
    "        estoques[(andar, corredor)] = estoque\n",
    "    \n",
    "    else:\n",
    "        estoque = estoques[(andar, corredor)]\n",
    "\n",
    "    # Adicionar o produto ao estoque\n",
    "    produto = Produto(sku, qtd)\n",
    "    estoque.add_produto(produto)\n",
    "\n",
    "print(len(estoques))\n",
    "print(estoques[(0, 2)].get_total_itens())"
   ]
  },
  {
   "cell_type": "code",
   "execution_count": 128,
   "metadata": {},
   "outputs": [
    {
     "name": "stdout",
     "output_type": "stream",
     "text": [
      "Caixas classe 1: 1133\n",
      "Caixas classe 2: 416\n",
      "Caixas classe 3: 321\n",
      "Caixas classe 4: 153\n",
      "Caixas classe 5: 47\n",
      "Caixas classe 6: 2\n"
     ]
    }
   ],
   "source": [
    "caixas_classe1 = {}\n",
    "caixas_classe2 = {}\n",
    "caixas_classe3 = {}\n",
    "caixas_classe4 = {}\n",
    "caixas_classe5 = {}\n",
    "caixas_classe6 = {}\n",
    "\n",
    "for caixa in caixas.values():\n",
    "    if caixa.classe_onda == 1:\n",
    "        caixas_classe1[caixa.id_caixa] = caixa\n",
    "    elif caixa.classe_onda == 2:\n",
    "        caixas_classe2[caixa.id_caixa] = caixa\n",
    "    elif caixa.classe_onda == 3:\n",
    "        caixas_classe3[caixa.id_caixa] = caixa\n",
    "    elif caixa.classe_onda == 4:\n",
    "        caixas_classe4[caixa.id_caixa] = caixa\n",
    "    elif caixa.classe_onda == 5:\n",
    "        caixas_classe5[caixa.id_caixa] = caixa\n",
    "    else:\n",
    "        caixas_classe6[caixa.id_caixa] = caixa\n",
    "\n",
    "print(f\"Caixas classe 1: {len(caixas_classe1)}\")\n",
    "print(f\"Caixas classe 2: {len(caixas_classe2)}\")\n",
    "print(f\"Caixas classe 3: {len(caixas_classe3)}\")\n",
    "print(f\"Caixas classe 4: {len(caixas_classe4)}\")\n",
    "print(f\"Caixas classe 5: {len(caixas_classe5)}\")\n",
    "print(f\"Caixas classe 6: {len(caixas_classe6)}\")"
   ]
  },
  {
   "cell_type": "code",
   "execution_count": 129,
   "metadata": {},
   "outputs": [
    {
     "name": "stdout",
     "output_type": "stream",
     "text": [
      "Caixa 1209 - Corredores possíveis: [[(0, 31), (0, 43)], [(0, 65), (0, 71)], [(0, 89), (0, 119)]]\n",
      "Caixa 1209 - Andares possíveis: [0, 10, 20, 210]\n",
      "Caixa 1210 - Corredores possíveis: [[(0, 31), (0, 43)], [(0, 65), (0, 71)], [(0, 89), (0, 119)]]\n",
      "Caixa 1210 - Andares possíveis: [0, 10, 20, 210]\n",
      "Caixas andar 0: 2\n",
      "Caixas andar 1: 0\n",
      "Caixas andar 2: 0\n",
      "Caixas varios: 0\n"
     ]
    }
   ],
   "source": [
    "caixas_andar_0 = {}\n",
    "caixas_andar_1 = {}\n",
    "caixas_andar_2 = {}\n",
    "caixas_varios = {}\n",
    "\n",
    "for caixa in caixas_classe6.values():\n",
    "\n",
    "    total_prod = 0\n",
    "\n",
    "    andares_possiveis = []\n",
    "    corredores_possiveis = []\n",
    "\n",
    "    opcoes = {\n",
    "        0: 0,\n",
    "        1: 0,\n",
    "        2: 0,\n",
    "        10: 0,\n",
    "        20: 0,\n",
    "        21: 0,\n",
    "        210: 0\n",
    "    }\n",
    "\n",
    "    for produto in caixa.produtos:\n",
    "\n",
    "        andares_achados = set()\n",
    "        corredores_achados = []\n",
    "        achou = False\n",
    "\n",
    "        total_prod += 1\n",
    "        sku = produto.sku\n",
    "        qtd = produto.qtd\n",
    "\n",
    "        for estoque in estoques.values():\n",
    "            produto_estoque = estoque.get_produto(sku)\n",
    "\n",
    "            if produto_estoque is not None and produto_estoque.qtd >= qtd:\n",
    "                produto_estoque.qtd -= qtd\n",
    "                andares_achados.add(estoque.andar)\n",
    "                corredores_achados.append((estoque.andar, estoque.corredor))\n",
    "                achou = True\n",
    "\n",
    "        if achou:\n",
    "            for andar in andares_achados:\n",
    "                if andar == 0:\n",
    "                    opcoes[0] += 1\n",
    "                    opcoes[10] += 1\n",
    "                    opcoes[20] += 1\n",
    "                    opcoes[210] += 1\n",
    "                \n",
    "                elif andar == 1:\n",
    "                    opcoes[1] += 1\n",
    "                    opcoes[21] += 1\n",
    "                    opcoes[10] += 1\n",
    "                    opcoes[210] += 1\n",
    "\n",
    "                elif andar == 2:\n",
    "                    opcoes[2] += 1\n",
    "                    opcoes[20] += 1\n",
    "                    opcoes[21] += 1\n",
    "                    opcoes[210] += 1\n",
    "\n",
    "        corredores_possiveis.append(corredores_achados)\n",
    "\n",
    "    for opcao, qtd in opcoes.items():\n",
    "        \n",
    "        if qtd >= total_prod and total_prod > 0:  \n",
    "            andares_possiveis.append(opcao)\n",
    "\n",
    "    um_andar = False\n",
    "\n",
    "    for a in andares_possiveis:\n",
    "\n",
    "        if a == 0:\n",
    "            caixas_andar_0[caixa.id_caixa] = caixa\n",
    "            um_andar = True\n",
    "\n",
    "        elif a == 1:\n",
    "            caixas_andar_1[caixa.id_caixa] = caixa\n",
    "            um_andar = True\n",
    "\n",
    "        elif a == 2:\n",
    "            caixas_andar_2[caixa.id_caixa] = caixa\n",
    "            um_andar = True\n",
    "\n",
    "    if not um_andar:\n",
    "        caixas_varios[caixa.id_caixa] = caixa\n",
    "    \n",
    "    print(f\"Caixa {caixa.id_caixa} - Corredores possíveis: {corredores_possiveis}\")\n",
    "    print(f\"Caixa {caixa.id_caixa} - Andares possíveis: {andares_possiveis}\")\n",
    "\n",
    "print(f\"Caixas andar 0: {len(caixas_andar_0)}\")\n",
    "print(f\"Caixas andar 1: {len(caixas_andar_1)}\")\n",
    "print(f\"Caixas andar 2: {len(caixas_andar_2)}\")\n",
    "print(f\"Caixas varios: {len(caixas_varios)}\")\n"
   ]
  }
 ],
 "metadata": {
  "kernelspec": {
   "display_name": "Python 3",
   "language": "python",
   "name": "python3"
  },
  "language_info": {
   "codemirror_mode": {
    "name": "ipython",
    "version": 3
   },
   "file_extension": ".py",
   "mimetype": "text/x-python",
   "name": "python",
   "nbconvert_exporter": "python",
   "pygments_lexer": "ipython3",
   "version": "3.12.7"
  }
 },
 "nbformat": 4,
 "nbformat_minor": 2
}
