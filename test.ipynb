{
 "cells": [
  {
   "cell_type": "code",
   "execution_count": 2,
   "metadata": {},
   "outputs": [
    {
     "data": {
      "text/html": [
       "<div>\n",
       "<style scoped>\n",
       "    .dataframe tbody tr th:only-of-type {\n",
       "        vertical-align: middle;\n",
       "    }\n",
       "\n",
       "    .dataframe tbody tr th {\n",
       "        vertical-align: top;\n",
       "    }\n",
       "\n",
       "    .dataframe thead th {\n",
       "        text-align: right;\n",
       "    }\n",
       "</style>\n",
       "<table border=\"1\" class=\"dataframe\">\n",
       "  <thead>\n",
       "    <tr style=\"text-align: right;\">\n",
       "      <th></th>\n",
       "      <th>Métrica</th>\n",
       "      <th>Valor</th>\n",
       "    </tr>\n",
       "  </thead>\n",
       "  <tbody>\n",
       "    <tr>\n",
       "      <th>0</th>\n",
       "      <td>Total de Caixas</td>\n",
       "      <td>2072</td>\n",
       "    </tr>\n",
       "    <tr>\n",
       "      <th>1</th>\n",
       "      <td>Total de Itens nas Caixas</td>\n",
       "      <td>58956</td>\n",
       "    </tr>\n",
       "    <tr>\n",
       "      <th>2</th>\n",
       "      <td>Total de Corredores por Andar</td>\n",
       "      <td>502</td>\n",
       "    </tr>\n",
       "    <tr>\n",
       "      <th>3</th>\n",
       "      <td>Total de SKUs Diferentes</td>\n",
       "      <td>2085</td>\n",
       "    </tr>\n",
       "  </tbody>\n",
       "</table>\n",
       "</div>"
      ],
      "text/plain": [
       "                         Métrica  Valor\n",
       "0                Total de Caixas   2072\n",
       "1      Total de Itens nas Caixas  58956\n",
       "2  Total de Corredores por Andar    502\n",
       "3       Total de SKUs Diferentes   2085"
      ]
     },
     "metadata": {},
     "output_type": "display_data"
    }
   ],
   "source": [
    "import pandas as pd\n",
    "import numpy as np\n",
    "\n",
    "df_caixas = pd.read_csv('data/caixas.csv')\n",
    "df_estoque = pd.read_csv('data/estoque.csv')\n",
    "\n",
    "# Calculando valores totais do arquivo de caixas\n",
    "total_caixas = df_caixas[\"CAIXA_ID\"].nunique()  # Total de caixas únicas\n",
    "total_itens = df_caixas[\"PECAS\"].sum()  # Total de itens dentro das caixas\n",
    "\n",
    "# Calculando valores totais do arquivo de estoque\n",
    "total_corredores = df_estoque.groupby([\"ANDAR\", \"CORREDOR\"]).ngroups  # Total de corredores únicos por andar\n",
    "total_skus = df_estoque[\"SKU\"].nunique()  # Total de SKUs diferentes\n",
    "\n",
    "# Criando um DataFrame com os valores totais\n",
    "df_totais = pd.DataFrame({\n",
    "    \"Métrica\": [\"Total de Caixas\", \"Total de Itens nas Caixas\", \"Total de Corredores por Andar\", \"Total de SKUs Diferentes\"],\n",
    "    \"Valor\": [total_caixas, total_itens, total_corredores, total_skus]\n",
    "})\n",
    "\n",
    "# Exibir a tabela de valores totais para o usuário\n",
    "display(df_totais)"
   ]
  },
  {
   "cell_type": "code",
   "execution_count": null,
   "metadata": {},
   "outputs": [],
   "source": []
  }
 ],
 "metadata": {
  "kernelspec": {
   "display_name": "Python 3",
   "language": "python",
   "name": "python3"
  },
  "language_info": {
   "codemirror_mode": {
    "name": "ipython",
    "version": 3
   },
   "file_extension": ".py",
   "mimetype": "text/x-python",
   "name": "python",
   "nbconvert_exporter": "python",
   "pygments_lexer": "ipython3",
   "version": "3.12.7"
  }
 },
 "nbformat": 4,
 "nbformat_minor": 2
}
